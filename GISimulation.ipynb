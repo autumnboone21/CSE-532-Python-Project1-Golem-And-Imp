{
 "cells": [
  {
   "cell_type": "code",
   "execution_count": 20,
   "id": "03ae33c4-7a40-45f1-b023-26654bc2dc73",
   "metadata": {},
   "outputs": [
    {
     "name": "stdout",
     "output_type": "stream",
     "text": [
      "\n",
      "\n",
      "G----I---------------------------------------------   0 second(s)\n",
      "\n",
      "----G-I--------------------------------------------   1 second(s)\n",
      "\n",
      "--------G------------------------------------------   2 second(s)\n",
      "SADLY, IT’S BACK TO THE TOWER FOR THE IMP AFTER A  2 SECOND-CHASE.\n"
     ]
    }
   ],
   "source": [
    "import random\n",
    "\n",
    "def createTunnelImage(gols, imps, sc):\n",
    "    print(\"\\n\")\n",
    "    for i in range(51):\n",
    "        if i == gols:\n",
    "            print(\"G\", end=\"\")\n",
    "        elif i == imps:\n",
    "            print(\"I\", end=\"\")\n",
    "        else:\n",
    "            print(\"-\", end=\"\")\n",
    "    print(\"   \" + str(sc) + \" second(s)\", end=\"\")\n",
    "\n",
    "tunnel = []\n",
    "for _ in range(51):\n",
    "    tunnel.append(\"-\")\n",
    "    \n",
    "golem_step = 0\n",
    "imp_step = 5\n",
    "\n",
    "second_counter = 0\n",
    "createTunnelImage(golem_step, imp_step, second_counter)\n",
    "\n",
    "while True:\n",
    "    # random.randint is inclusive in the range\n",
    "    second_counter += 1\n",
    "    golem_step = golem_step + random.randint(3, 5)\n",
    "    imp_step = imp_step + random.randint(1, 9)\n",
    "    createTunnelImage(golem_step, imp_step, second_counter)\n",
    "    if golem_step >= imp_step:\n",
    "        print(\"\\nSADLY, IT’S BACK TO THE TOWER FOR THE IMP AFTER A \", second_counter, \"SECOND-CHASE.\")\n",
    "        break\n",
    "    elif imp_step >= 50:\n",
    "        print(\"\\nTHE IMP HAS ESCAPED TO FREEDOM AFTER \", second_counter, \"SECONDS.  MISCHIEF AND TRICKERY AWAIT!\")\n",
    "        break\n",
    "\n"
   ]
  },
  {
   "cell_type": "code",
   "execution_count": null,
   "id": "9cde49b9-5255-42f3-b8e3-9259f3abc45b",
   "metadata": {},
   "outputs": [],
   "source": []
  }
 ],
 "metadata": {
  "kernelspec": {
   "display_name": "Python 3 (ipykernel)",
   "language": "python",
   "name": "python3"
  },
  "language_info": {
   "codemirror_mode": {
    "name": "ipython",
    "version": 3
   },
   "file_extension": ".py",
   "mimetype": "text/x-python",
   "name": "python",
   "nbconvert_exporter": "python",
   "pygments_lexer": "ipython3",
   "version": "3.11.7"
  }
 },
 "nbformat": 4,
 "nbformat_minor": 5
}
